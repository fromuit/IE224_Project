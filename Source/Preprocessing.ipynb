{
 "cells": [
  {
   "cell_type": "code",
   "execution_count": 2,
   "metadata": {},
   "outputs": [],
   "source": [
    "import pandas as pd\n",
    "import numpy as np \n",
    "from sklearn.preprocessing import StandardScaler, LabelEncoder\n",
    "\n",
    "pd.set_option('display.max_rows', None)\n",
    "pd.set_option('display.max_columns', None)"
   ]
  },
  {
   "cell_type": "code",
   "execution_count": 3,
   "metadata": {},
   "outputs": [],
   "source": [
    "df = pd.read_csv('../Data/LCK_Tournament.csv')"
   ]
  },
  {
   "cell_type": "code",
   "execution_count": 4,
   "metadata": {},
   "outputs": [],
   "source": [
    "#Drop columns not important\n",
    "df = df.drop(['year', 'league', 'datacompleteness', 'split', 'playoffs', 'game', 'patch',\n",
    "              'side', 'position', 'teamid'], axis=1)"
   ]
  },
  {
   "cell_type": "markdown",
   "metadata": {},
   "source": [
    "Feature Engineering"
   ]
  },
  {
   "cell_type": "code",
   "execution_count": 5,
   "metadata": {},
   "outputs": [],
   "source": [
    "# Convert 'date' column to datetime format\n",
    "df['date'] = pd.to_datetime(df['date'])\n",
    "\n",
    "# Combine all multi kills features into one\n",
    "# Define the list of multi kills features to combine\n",
    "multi_kills_features = [\"doublekills\", \"triplekills\", \"quadrakills\", \"pentakills\"]\n",
    "\n",
    "# Initialize a new column to hold the combined multi kills\n",
    "df[\"multikills\"] = 0\n",
    "\n",
    "# Iterate through each multi kills feature and add its value to the combined column\n",
    "for feature in multi_kills_features:\n",
    "    df[\"multikills\"] += df[feature]\n",
    "\n",
    "# Drop the individual multi kills features as they are now combined\n",
    "df = df.drop(multi_kills_features, axis=1)\n"
   ]
  },
  {
   "cell_type": "code",
   "execution_count": 7,
   "metadata": {},
   "outputs": [
    {
     "name": "stdout",
     "output_type": "stream",
     "text": [
      "\n",
      "Example of team-champion statistics:\n",
      "            teamname   pick1  winrate_pick1  count_pick1     pick2  \\\n",
      "0                DRX  Lucian       0.222222          9.0   Orianna   \n",
      "1  Nongshim RedForce   Milio       0.250000          8.0      Azir   \n",
      "2                DRX  Lucian       0.222222          9.0      Nami   \n",
      "3  Nongshim RedForce   Milio       0.250000          8.0        Vi   \n",
      "4              Gen.G   Corki       0.843750         32.0  Aphelios   \n",
      "\n",
      "   winrate_pick2  count_pick2  \n",
      "0       0.000000          4.0  \n",
      "1       0.176471         17.0  \n",
      "2       0.200000          5.0  \n",
      "3       0.444444          9.0  \n",
      "4       0.750000         12.0  \n"
     ]
    }
   ],
   "source": [
    "def calculate_team_champion_stats(data):\n",
    "    \"\"\"Calculate overall champion statistics for each team regardless of pick order\"\"\"\n",
    "    team_champ_stats = {}\n",
    "    \n",
    "    # Get all pick columns\n",
    "    pick_cols = [f\"pick{i}\" for i in range(1, 6)]\n",
    "    \n",
    "    # Calculate stats for each team-champion combination\n",
    "    for team in data[\"teamname\"].unique():\n",
    "        team_data = data[data[\"teamname\"] == team]\n",
    "        champion_stats = {}\n",
    "        \n",
    "        # Combine all picks to get total champion usage\n",
    "        for pick_col in pick_cols:\n",
    "            for champ in team_data[pick_col].unique():\n",
    "                if champ not in champion_stats:\n",
    "                    champion_stats[champ] = {\"games\": 0, \"wins\": 0}\n",
    "                \n",
    "                champ_games = team_data[team_data[pick_col] == champ]\n",
    "                champion_stats[champ][\"games\"] += len(champ_games)\n",
    "                champion_stats[champ][\"wins\"] += champ_games[\"result\"].sum()\n",
    "        \n",
    "        team_champ_stats[team] = champion_stats\n",
    "    \n",
    "    return team_champ_stats\n",
    "\n",
    "# Calculate team-champion statistics\n",
    "team_champion_stats = calculate_team_champion_stats(df)\n",
    "\n",
    "# Add statistics columns for each pick\n",
    "for i in range(1, 6):\n",
    "    pick_col = f\"pick{i}\"\n",
    "    winrate_col = f\"winrate_{pick_col}\"\n",
    "    count_col = f\"count_{pick_col}\"\n",
    "    \n",
    "    def get_champ_stats(row):\n",
    "        team_stats = team_champion_stats.get(row[\"teamname\"], {})\n",
    "        champ_stats = team_stats.get(row[pick_col], {\"games\": 0, \"wins\": 0})\n",
    "        \n",
    "        games = champ_stats[\"games\"]\n",
    "        winrate = champ_stats[\"wins\"] / games if games > 0 else 0\n",
    "        \n",
    "        return pd.Series({\n",
    "            winrate_col: winrate,\n",
    "            count_col: games\n",
    "        })\n",
    "    \n",
    "    df[[ winrate_col, count_col ]] = df.apply(get_champ_stats, axis=1)\n",
    "\n",
    "# Display example of processed data\n",
    "print(\"\\nExample of team-champion statistics:\")\n",
    "print(df[[\"teamname\", \n",
    "          \"pick1\", \"winrate_pick1\", \"count_pick1\",\n",
    "          \"pick2\", \"winrate_pick2\", \"count_pick2\"]].head())\n",
    "\n",
    "# Save processed data\n",
    "df.to_csv(\"../Data/processed_for_prediction.csv\", index=False)\n"
   ]
  },
  {
   "cell_type": "code",
   "execution_count": 3,
   "metadata": {},
   "outputs": [],
   "source": [
    "import pandas as pd\n",
    "df = pd.read_csv('../Data/processed_for_prediction.csv')"
   ]
  }
 ],
 "metadata": {
  "kernelspec": {
   "display_name": "Python 3",
   "language": "python",
   "name": "python3"
  },
  "language_info": {
   "codemirror_mode": {
    "name": "ipython",
    "version": 3
   },
   "file_extension": ".py",
   "mimetype": "text/x-python",
   "name": "python",
   "nbconvert_exporter": "python",
   "pygments_lexer": "ipython3",
   "version": "3.12.6"
  }
 },
 "nbformat": 4,
 "nbformat_minor": 2
}
